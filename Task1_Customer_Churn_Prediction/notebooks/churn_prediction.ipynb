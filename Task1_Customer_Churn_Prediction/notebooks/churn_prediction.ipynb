{
 "cells": [
  {
   "cell_type": "code",
   "execution_count": null,
   "id": "1503efe3-b1c6-4505-9c08-bce8d6bf82d0",
   "metadata": {},
   "outputs": [],
   "source": [
    "import sys\n",
    "import os\n",
    "\n",
    "\n",
    "sys.path.append(os.path.abspath(os.path.join('..')))\n",
    "\n",
    "from src.data_preprocessing import load_data_from_url, basic_cleaning\n",
    "from src.model_training import train_logistic_regression, train_random_forest, evaluate_model, save_model\n",
    "from src.visualization import plot_churn_distribution, plot_feature_importance"
   ]
  },
  {
   "cell_type": "code",
   "execution_count": null,
   "id": "a101a925",
   "metadata": {},
   "outputs": [],
   "source": [
    "\n",
    "import pandas as pd\n",
    "import numpy as np\n",
    "import matplotlib.pyplot as plt\n",
    "import seaborn as sns\n",
    "from sklearn.model_selection import train_test_split\n",
    "from sklearn.preprocessing import StandardScaler\n",
    "from sklearn.metrics import accuracy_score, classification_report, roc_auc_score\n",
    "from src.data_preprocessing import load_data_from_url, basic_cleaning\n",
    "from src.model_training import train_logistic_regression, train_random_forest, evaluate_model, save_model\n",
    "from src.visualization import plot_churn_distribution, plot_feature_importance\n",
    "import os\n"
   ]
  },
  {
   "cell_type": "code",
   "execution_count": null,
   "id": "da9328a1",
   "metadata": {},
   "outputs": [],
   "source": [
    "\n",
    "DATA_URL = 'https://raw.githubusercontent.com/IBM/telco-customer-churn-on-icp4d/master/data/Telco-Customer-Churn.csv'\n",
    "data_path = 'data/Telco-Customer-Churn.csv'\n",
    "os.makedirs('data', exist_ok=True)\n",
    "try:\n",
    "    df = load_data_from_url(DATA_URL, save_path=data_path)\n",
    "    print('Dataset downloaded to', data_path)\n",
    "except Exception as e:\n",
    "    print('Failed to download dataset automatically. Please download manually and place in data/ folder.', e)\n",
    "    if os.path.exists(data_path):\n",
    "        df = pd.read_csv(data_path)\n",
    "    else:\n",
    "        raise\n"
   ]
  },
  {
   "cell_type": "code",
   "execution_count": null,
   "id": "151be4f7",
   "metadata": {},
   "outputs": [],
   "source": [
    "df.shape\n"
   ]
  },
  {
   "cell_type": "code",
   "execution_count": null,
   "id": "7ecc1c42",
   "metadata": {},
   "outputs": [],
   "source": [
    "\n",
    "df = basic_cleaning(df)\n",
    "if 'Churn' in df.columns:\n",
    "    df['Churn'] = df['Churn'].map({'Yes':1, 'No':0})\n",
    "df.head()\n"
   ]
  },
  {
   "cell_type": "code",
   "execution_count": null,
   "id": "011dad77",
   "metadata": {},
   "outputs": [],
   "source": [
    "\n",
    "plot_churn_distribution(df)\n"
   ]
  },
  {
   "cell_type": "code",
   "execution_count": null,
   "id": "8c6b9add",
   "metadata": {},
   "outputs": [],
   "source": [
    "\n",
    "cat_cols = df.select_dtypes(include=['object', 'category']).columns.tolist()\n",
    "df_enc = pd.get_dummies(df, columns=cat_cols, drop_first=True)\n",
    "X = df_enc.drop('Churn', axis=1)\n",
    "y = df_enc['Churn']\n",
    "X_train, X_test, y_train, y_test = train_test_split(X, y, test_size=0.2, random_state=42, stratify=y)\n",
    "scaler = StandardScaler()\n",
    "X_train_scaled = scaler.fit_transform(X_train)\n",
    "X_test_scaled = scaler.transform(X_test)\n"
   ]
  },
  {
   "cell_type": "code",
   "execution_count": null,
   "id": "ce76ef5c",
   "metadata": {},
   "outputs": [],
   "source": [
    "\n",
    "log_model = train_logistic_regression(X_train_scaled, y_train)\n",
    "rf_model = train_random_forest(X_train, y_train)\n",
    "\n",
    "\n",
    "print('Logistic Regression:')\n",
    "print(evaluate_model(log_model, X_test_scaled, y_test))\n",
    "print('\\nRandom Forest:')\n",
    "print(evaluate_model(rf_model, X_test, y_test))\n",
    "\n",
    "\n",
    "os.makedirs('models', exist_ok=True)\n",
    "save_model(rf_model, 'models/rf_model.joblib')\n",
    "save_model(log_model, 'models/log_model.joblib')\n"
   ]
  },
  {
   "cell_type": "code",
   "execution_count": null,
   "id": "34079cb9",
   "metadata": {},
   "outputs": [],
   "source": [
    "\n",
    "try:\n",
    "    import numpy as np\n",
    "    feats = X.columns.tolist()\n",
    "    imps = rf_model.feature_importances_\n",
    "    plot_feature_importance(feats, imps, top_n=20, save_path='models/feature_importance.png')\n",
    "except Exception as e:\n",
    "    print('Could not plot feature importance.', e)\n"
   ]
  }
 ],
 "metadata": {
  "kernelspec": {
   "display_name": "Python 3 (ipykernel)",
   "language": "python",
   "name": "python3"
  },
  "language_info": {
   "codemirror_mode": {
    "name": "ipython",
    "version": 3
   },
   "file_extension": ".py",
   "mimetype": "text/x-python",
   "name": "python",
   "nbconvert_exporter": "python",
   "pygments_lexer": "ipython3",
   "version": "3.13.2"
  }
 },
 "nbformat": 4,
 "nbformat_minor": 5
}
